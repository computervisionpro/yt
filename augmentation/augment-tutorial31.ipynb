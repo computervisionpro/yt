{
 "cells": [
  {
   "cell_type": "code",
   "execution_count": 1,
   "id": "a8f665d3-bff2-43c9-9b21-504cfde86931",
   "metadata": {},
   "outputs": [],
   "source": [
    "import random, os\n",
    "from glob import glob\n",
    "from PIL import Image\n",
    "from tqdm import tqdm\n",
    "from torchvision import transforms"
   ]
  },
  {
   "cell_type": "code",
   "execution_count": 2,
   "id": "b884ff7e-aadb-4fc6-977d-c4f5a3734aeb",
   "metadata": {},
   "outputs": [
    {
     "name": "stdout",
     "output_type": "stream",
     "text": [
      "\n",
      "Images: ['./input/martin-katler-unsplash.jpg'] 1\n"
     ]
    }
   ],
   "source": [
    "source = './input'\n",
    "target = './output'\n",
    "\n",
    "source_path = glob(source+'/*')\n",
    "\n",
    "print()\n",
    "print('Images:', source_path, len(source_path))"
   ]
  },
  {
   "cell_type": "code",
   "execution_count": 3,
   "id": "60964632-2b6b-4b20-8de5-1ea6a88227a1",
   "metadata": {},
   "outputs": [],
   "source": [
    "def rotate_90_270(image):\n",
    "    \n",
    "    # rotate image with p = .5\n",
    "    if random.choice([True, False]):\n",
    "        if random.choice([True, False]):\n",
    "            return image.rotate(90)\n",
    "        else:\n",
    "            return image.rotate(270)\n",
    "    else:\n",
    "        return image\n",
    "\n",
    "transformer = transforms.Compose([\n",
    "        #transforms.Resize((224,224)),\n",
    "        #transforms.RandomHorizontalFlip(p=0.5),\n",
    "\n",
    "        transforms.RandomAffine(degrees=4, translate=(0.1,0.2), scale=(0.5, 0.75)), #\n",
    "        transforms.Lambda(rotate_90_270),\n",
    "        transforms.ColorJitter(brightness=0.5, contrast=0.4, saturation=0.7)\n",
    "\n",
    "])"
   ]
  },
  {
   "cell_type": "code",
   "execution_count": 5,
   "id": "51da4940-b9e5-42da-b1a2-901a937a7200",
   "metadata": {},
   "outputs": [
    {
     "name": "stderr",
     "output_type": "stream",
     "text": [
      "100%|\u001b[33m█████████████████████████████████████████████████████████████████████████████████████\u001b[0m| 1/1 [00:00<00:00,  7.00it/s]\u001b[0m"
     ]
    },
    {
     "name": "stdout",
     "output_type": "stream",
     "text": [
      "Transforminge: ./input/martin-katler-unsplash.jpg\n"
     ]
    },
    {
     "name": "stderr",
     "output_type": "stream",
     "text": [
      "\n"
     ]
    }
   ],
   "source": [
    "for image_ in tqdm(source_path, colour='YELLOW', position=0, leave=True):\n",
    "\n",
    "    print('Reading image:', image_ ,end='\\r')\n",
    "    orig_img = Image.open(image_).convert(\"RGB\")\n",
    "\n",
    "    f_name = os.path.basename(image_)\n",
    "    f_name = os.path.splitext(f_name)[0]\n",
    "\n",
    "    print(\"Transforming\" ,end='\\r')\n",
    "    affine_imgs = [transformer(orig_img) for _ in range(4)]\n",
    "    for i, im in enumerate(affine_imgs):\n",
    "        im.save(f\"./output/{f_name}-{i+4}.jpg\", 'JPEG')\n",
    "    print()"
   ]
  },
  {
   "cell_type": "code",
   "execution_count": null,
   "id": "ca339f61-df72-43f6-912e-fde82c548f13",
   "metadata": {},
   "outputs": [],
   "source": []
  }
 ],
 "metadata": {
  "kernelspec": {
   "display_name": "open_vn",
   "language": "python",
   "name": "open_vn"
  },
  "language_info": {
   "codemirror_mode": {
    "name": "ipython",
    "version": 3
   },
   "file_extension": ".py",
   "mimetype": "text/x-python",
   "name": "python",
   "nbconvert_exporter": "python",
   "pygments_lexer": "ipython3",
   "version": "3.10.14"
  }
 },
 "nbformat": 4,
 "nbformat_minor": 5
}
